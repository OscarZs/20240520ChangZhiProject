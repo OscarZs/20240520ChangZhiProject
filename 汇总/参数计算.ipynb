{
 "cells": [
  {
   "cell_type": "code",
   "execution_count": 33,
   "metadata": {},
   "outputs": [
    {
     "name": "stdout",
     "output_type": "stream",
     "text": [
      "H* = 3.627803189569324 min\n",
      "S* = 0.48370709194257644 km\n",
      "s* = 0.3333333333333333 km\n"
     ]
    }
   ],
   "source": [
    "import numpy as np\n",
    "\n",
    "# Define the variables\n",
    "cd = 6             #元/车次*km \n",
    "lambda_ = 2900 * 0.12     # pax/km^2/hr\n",
    "beta = 39   # yuan/hr\n",
    "vw = 4.0     # km/h\n",
    "l = 2.0      #km\n",
    "ts = 25/3600 # h    \n",
    "k= 2 # bad case\n",
    "\n",
    "# Calculate H*\n",
    "H_star = 2 * (cd / (lambda_ * beta * (k**2) * vw))**(1/3) *60#min\n",
    "\n",
    "# Calculate S* using the first expression\n",
    "S_star_1 = 2 * (k * cd * (vw ** 2)/ lambda_ / beta)**(1/3)\n",
    "\n",
    "# Calculate S* using the second expression\n",
    "S_star_2 = np.sqrt(2 * l * ts * vw)\n",
    "\n",
    "# Print the results\n",
    "print(\"H* =\", H_star, \"min\")\n",
    "print(\"S* =\", S_star_1, \"km\")\n",
    "print(\"s* =\", S_star_2, \"km\")\n"
   ]
  }
 ],
 "metadata": {
  "kernelspec": {
   "display_name": "GIS",
   "language": "python",
   "name": "python3"
  },
  "language_info": {
   "codemirror_mode": {
    "name": "ipython",
    "version": 3
   },
   "file_extension": ".py",
   "mimetype": "text/x-python",
   "name": "python",
   "nbconvert_exporter": "python",
   "pygments_lexer": "ipython3",
   "version": "3.12.3"
  }
 },
 "nbformat": 4,
 "nbformat_minor": 2
}
